{
 "cells": [
  {
   "cell_type": "code",
   "execution_count": 1,
   "metadata": {},
   "outputs": [],
   "source": [
    "from torchsummary import summary\n",
    "import matplotlib.pyplot as plt\n",
    "from FCN import MNISTClassifier\n",
    "from utils import *"
   ]
  },
  {
   "cell_type": "code",
   "execution_count": 2,
   "metadata": {},
   "outputs": [
    {
     "name": "stdout",
     "output_type": "stream",
     "text": [
      "==========================================================================================\n",
      "Layer (type:depth-idx)                   Output Shape              Param #\n",
      "==========================================================================================\n",
      "├─Sequential: 1-1                        [-1, 10]                  --\n",
      "|    └─Flatten: 2-1                      [-1, 784]                 --\n",
      "|    └─Linear: 2-2                       [-1, 128]                 100,480\n",
      "|    └─ReLU: 2-3                         [-1, 128]                 --\n",
      "|    └─Linear: 2-4                       [-1, 64]                  8,256\n",
      "|    └─ReLU: 2-5                         [-1, 64]                  --\n",
      "|    └─Linear: 2-6                       [-1, 10]                  650\n",
      "==========================================================================================\n",
      "Total params: 109,386\n",
      "Trainable params: 109,386\n",
      "Non-trainable params: 0\n",
      "Total mult-adds (M): 0.22\n",
      "==========================================================================================\n",
      "Input size (MB): 0.00\n",
      "Forward/backward pass size (MB): 0.00\n",
      "Params size (MB): 0.42\n",
      "Estimated Total Size (MB): 0.42\n",
      "==========================================================================================\n"
     ]
    },
    {
     "data": {
      "text/plain": [
       "==========================================================================================\n",
       "Layer (type:depth-idx)                   Output Shape              Param #\n",
       "==========================================================================================\n",
       "├─Sequential: 1-1                        [-1, 10]                  --\n",
       "|    └─Flatten: 2-1                      [-1, 784]                 --\n",
       "|    └─Linear: 2-2                       [-1, 128]                 100,480\n",
       "|    └─ReLU: 2-3                         [-1, 128]                 --\n",
       "|    └─Linear: 2-4                       [-1, 64]                  8,256\n",
       "|    └─ReLU: 2-5                         [-1, 64]                  --\n",
       "|    └─Linear: 2-6                       [-1, 10]                  650\n",
       "==========================================================================================\n",
       "Total params: 109,386\n",
       "Trainable params: 109,386\n",
       "Non-trainable params: 0\n",
       "Total mult-adds (M): 0.22\n",
       "==========================================================================================\n",
       "Input size (MB): 0.00\n",
       "Forward/backward pass size (MB): 0.00\n",
       "Params size (MB): 0.42\n",
       "Estimated Total Size (MB): 0.42\n",
       "=========================================================================================="
      ]
     },
     "execution_count": 2,
     "metadata": {},
     "output_type": "execute_result"
    }
   ],
   "source": [
    "model = MNISTClassifier(784, 128, 64, 10)\n",
    "summary(model, (784, ))"
   ]
  },
  {
   "cell_type": "code",
   "execution_count": 3,
   "metadata": {},
   "outputs": [],
   "source": [
    "train, test = download_MNIST()"
   ]
  },
  {
   "cell_type": "code",
   "execution_count": 4,
   "metadata": {},
   "outputs": [],
   "source": [
    "train_loader, test_loader = data_loaders(train, test, batch_size=64)"
   ]
  },
  {
   "cell_type": "code",
   "execution_count": 5,
   "metadata": {},
   "outputs": [
    {
     "name": "stdout",
     "output_type": "stream",
     "text": [
      "number of samplestorch.Size([64, 1, 28, 28])\n",
      "number of labels torch.Size([64])\n"
     ]
    }
   ],
   "source": [
    "train_iter=iter(train_loader)\n",
    "samples, labels=next(train_iter)\n",
    "print(f\"number of samples{samples.shape}\")\n",
    "print(f\"number of labels {labels.shape}\")"
   ]
  },
  {
   "cell_type": "code",
   "execution_count": 6,
   "metadata": {},
   "outputs": [
    {
     "data": {
      "image/png": "[encoded data removed]",
      "text/plain": [
       "<Figure size 500x800 with 10 Axes>"
      ]
     },
     "metadata": {},
     "output_type": "display_data"
    }
   ],
   "source": [
    "plt.figure(figsize=(5,8))\n",
    "for i in range(10):\n",
    "    plt.subplot(2,5,i+1)\n",
    "    \n",
    "    plt.imshow(samples[i][0],cmap='BuPu')\n",
    "plt.show()"
   ]
  },
  {
   "cell_type": "code",
   "execution_count": 7,
   "metadata": {},
   "outputs": [],
   "source": [
    "optimizer = adam_optimizer(model, lr=5e-4)\n",
    "criterion = cross_entropy_loss()\n",
    "num_epochs = 100"
   ]
  },
  {
   "cell_type": "code",
   "execution_count": 8,
   "metadata": {},
   "outputs": [
    {
     "name": "stdout",
     "output_type": "stream",
     "text": [
      "Epoch : 1/100\n",
      "[1,   938] loss: 0.199, accuracy: 0.938\n",
      "Epoch : 2/100\n",
      "[2,   938] loss: 0.095, accuracy: 1.000\n",
      "Epoch : 3/100\n",
      "[3,   938] loss: 0.104, accuracy: 0.969\n",
      "Epoch : 4/100\n",
      "[4,   938] loss: 0.078, accuracy: 0.969\n",
      "Epoch : 5/100\n",
      "[5,   938] loss: 0.157, accuracy: 0.938\n",
      "Epoch : 6/100\n",
      "[6,   938] loss: 0.066, accuracy: 0.969\n",
      "Epoch : 7/100\n",
      "[7,   938] loss: 0.112, accuracy: 0.938\n",
      "Epoch : 8/100\n",
      "[8,   938] loss: 0.044, accuracy: 0.969\n",
      "Epoch : 9/100\n",
      "[9,   938] loss: 0.022, accuracy: 1.000\n",
      "Epoch : 10/100\n",
      "[10,   938] loss: 0.006, accuracy: 1.000\n",
      "Epoch : 11/100\n",
      "[11,   938] loss: 0.322, accuracy: 0.969\n",
      "Epoch : 12/100\n",
      "[12,   938] loss: 0.014, accuracy: 1.000\n",
      "Epoch : 13/100\n",
      "[13,   938] loss: 0.061, accuracy: 0.969\n",
      "Epoch : 14/100\n",
      "[14,   938] loss: 0.005, accuracy: 1.000\n",
      "Epoch : 15/100\n",
      "[15,   938] loss: 0.001, accuracy: 1.000\n",
      "Epoch : 16/100\n",
      "[16,   938] loss: 0.006, accuracy: 1.000\n",
      "Epoch : 17/100\n",
      "[17,   938] loss: 0.001, accuracy: 1.000\n",
      "Epoch : 18/100\n",
      "[18,   938] loss: 0.001, accuracy: 1.000\n",
      "Epoch : 19/100\n",
      "[19,   938] loss: 0.013, accuracy: 1.000\n",
      "Epoch : 20/100\n",
      "[20,   938] loss: 0.001, accuracy: 1.000\n",
      "Epoch : 21/100\n",
      "[21,   938] loss: 0.002, accuracy: 1.000\n",
      "Epoch : 22/100\n",
      "[22,   938] loss: 0.008, accuracy: 1.000\n",
      "Epoch : 23/100\n",
      "[23,   938] loss: 0.004, accuracy: 1.000\n",
      "Epoch : 24/100\n",
      "[24,   938] loss: 0.001, accuracy: 1.000\n",
      "Epoch : 25/100\n",
      "[25,   938] loss: 0.000, accuracy: 1.000\n",
      "Epoch : 26/100\n",
      "[26,   938] loss: 0.001, accuracy: 1.000\n",
      "Epoch : 27/100\n",
      "[27,   938] loss: 0.000, accuracy: 1.000\n",
      "Epoch : 28/100\n",
      "[28,   938] loss: 0.076, accuracy: 0.969\n",
      "Epoch : 29/100\n",
      "[29,   938] loss: 0.010, accuracy: 1.000\n",
      "Epoch : 30/100\n",
      "[30,   938] loss: 0.005, accuracy: 1.000\n",
      "Epoch : 31/100\n",
      "[31,   938] loss: 0.000, accuracy: 1.000\n",
      "Epoch : 32/100\n",
      "[32,   938] loss: 0.000, accuracy: 1.000\n",
      "Epoch : 33/100\n",
      "[33,   938] loss: 0.001, accuracy: 1.000\n",
      "Epoch : 34/100\n",
      "[34,   938] loss: 0.000, accuracy: 1.000\n",
      "Epoch : 35/100\n",
      "[35,   938] loss: 0.000, accuracy: 1.000\n",
      "Epoch : 36/100\n",
      "[36,   938] loss: 0.000, accuracy: 1.000\n",
      "Epoch : 37/100\n",
      "[37,   938] loss: 0.000, accuracy: 1.000\n",
      "Epoch : 38/100\n",
      "[38,   938] loss: 0.000, accuracy: 1.000\n",
      "Epoch : 39/100\n",
      "[39,   938] loss: 0.000, accuracy: 1.000\n",
      "Epoch : 40/100\n",
      "[40,   938] loss: 0.001, accuracy: 1.000\n",
      "Epoch : 41/100\n",
      "[41,   938] loss: 0.000, accuracy: 1.000\n",
      "Epoch : 42/100\n",
      "[42,   938] loss: 0.002, accuracy: 1.000\n",
      "Epoch : 43/100\n",
      "[43,   938] loss: 0.000, accuracy: 1.000\n",
      "Epoch : 44/100\n",
      "[44,   938] loss: 0.000, accuracy: 1.000\n",
      "Epoch : 45/100\n",
      "[45,   938] loss: 0.000, accuracy: 1.000\n",
      "Epoch : 46/100\n",
      "[46,   938] loss: 0.000, accuracy: 1.000\n",
      "Epoch : 47/100\n",
      "[47,   938] loss: 0.000, accuracy: 1.000\n",
      "Epoch : 48/100\n",
      "[48,   938] loss: 0.000, accuracy: 1.000\n",
      "Epoch : 49/100\n",
      "[49,   938] loss: 0.002, accuracy: 1.000\n",
      "Epoch : 50/100\n",
      "[50,   938] loss: 0.000, accuracy: 1.000\n",
      "Epoch : 51/100\n",
      "[51,   938] loss: 0.002, accuracy: 1.000\n",
      "Epoch : 52/100\n",
      "[52,   938] loss: 0.001, accuracy: 1.000\n",
      "Epoch : 53/100\n",
      "[53,   938] loss: 0.000, accuracy: 1.000\n",
      "Epoch : 54/100\n",
      "[54,   938] loss: 0.000, accuracy: 1.000\n",
      "Epoch : 55/100\n",
      "[55,   938] loss: 0.000, accuracy: 1.000\n",
      "Epoch : 56/100\n",
      "[56,   938] loss: 0.001, accuracy: 1.000\n",
      "Epoch : 57/100\n",
      "[57,   938] loss: 0.000, accuracy: 1.000\n",
      "Epoch : 58/100\n",
      "[58,   938] loss: 0.000, accuracy: 1.000\n",
      "Epoch : 59/100\n",
      "[59,   938] loss: 0.000, accuracy: 1.000\n",
      "Epoch : 60/100\n",
      "[60,   938] loss: 0.000, accuracy: 1.000\n",
      "Epoch : 61/100\n",
      "[61,   938] loss: 0.000, accuracy: 1.000\n",
      "Epoch : 62/100\n",
      "[62,   938] loss: 0.000, accuracy: 1.000\n",
      "Epoch : 63/100\n",
      "[63,   938] loss: 0.000, accuracy: 1.000\n",
      "Epoch : 64/100\n",
      "[64,   938] loss: 0.000, accuracy: 1.000\n",
      "Epoch : 65/100\n",
      "[65,   938] loss: 0.000, accuracy: 1.000\n",
      "Epoch : 66/100\n",
      "[66,   938] loss: 0.000, accuracy: 1.000\n",
      "Epoch : 67/100\n",
      "[67,   938] loss: 0.000, accuracy: 1.000\n",
      "Epoch : 68/100\n",
      "[68,   938] loss: 0.000, accuracy: 1.000\n",
      "Epoch : 69/100\n",
      "[69,   938] loss: 0.000, accuracy: 1.000\n",
      "Epoch : 70/100\n",
      "[70,   938] loss: 0.000, accuracy: 1.000\n",
      "Epoch : 71/100\n",
      "[71,   938] loss: 0.000, accuracy: 1.000\n",
      "Epoch : 72/100\n",
      "[72,   938] loss: 0.000, accuracy: 1.000\n",
      "Epoch : 73/100\n",
      "[73,   938] loss: 0.000, accuracy: 1.000\n",
      "Epoch : 74/100\n",
      "[74,   938] loss: 0.000, accuracy: 1.000\n",
      "Epoch : 75/100\n",
      "[75,   938] loss: 0.000, accuracy: 1.000\n",
      "Epoch : 76/100\n",
      "[76,   938] loss: 0.000, accuracy: 1.000\n",
      "Epoch : 77/100\n",
      "[77,   938] loss: 0.000, accuracy: 1.000\n",
      "Epoch : 78/100\n",
      "[78,   938] loss: 0.001, accuracy: 1.000\n",
      "Epoch : 79/100\n",
      "[79,   938] loss: 0.000, accuracy: 1.000\n",
      "Epoch : 80/100\n",
      "[80,   938] loss: 0.000, accuracy: 1.000\n",
      "Epoch : 81/100\n",
      "[81,   938] loss: 0.000, accuracy: 1.000\n",
      "Epoch : 82/100\n",
      "[82,   938] loss: 0.000, accuracy: 1.000\n",
      "Epoch : 83/100\n",
      "[83,   938] loss: 0.000, accuracy: 1.000\n",
      "Epoch : 84/100\n",
      "[84,   938] loss: 0.000, accuracy: 1.000\n",
      "Epoch : 85/100\n",
      "[85,   938] loss: 0.000, accuracy: 1.000\n",
      "Epoch : 86/100\n",
      "[86,   938] loss: 0.017, accuracy: 1.000\n",
      "Epoch : 87/100\n",
      "[87,   938] loss: 0.000, accuracy: 1.000\n",
      "Epoch : 88/100\n",
      "[88,   938] loss: 0.000, accuracy: 1.000\n",
      "Epoch : 89/100\n",
      "[89,   938] loss: 0.000, accuracy: 1.000\n",
      "Epoch : 90/100\n",
      "[90,   938] loss: 0.000, accuracy: 1.000\n",
      "Epoch : 91/100\n",
      "[91,   938] loss: 0.000, accuracy: 1.000\n",
      "Epoch : 92/100\n",
      "[92,   938] loss: 0.001, accuracy: 1.000\n",
      "Epoch : 93/100\n",
      "[93,   938] loss: 0.000, accuracy: 1.000\n",
      "Epoch : 94/100\n",
      "[94,   938] loss: 0.000, accuracy: 1.000\n",
      "Epoch : 95/100\n",
      "[95,   938] loss: 0.000, accuracy: 1.000\n",
      "Epoch : 96/100\n",
      "[96,   938] loss: 0.000, accuracy: 1.000\n",
      "Epoch : 97/100\n",
      "[97,   938] loss: 0.000, accuracy: 1.000\n",
      "Epoch : 98/100\n",
      "[98,   938] loss: 0.000, accuracy: 1.000\n",
      "Epoch : 99/100\n",
      "[99,   938] loss: 0.000, accuracy: 1.000\n",
      "Epoch : 100/100\n",
      "[100,   938] loss: 0.000, accuracy: 1.000\n",
      "Training complete.\n"
     ]
    }
   ],
   "source": [
    "model, log_dict = train_model(model, train_loader, optimizer, criterion, num_epochs)\n",
    "torch.save(model, './models/model1.pth')"
   ]
  },
  {
   "cell_type": "code",
   "execution_count": 15,
   "metadata": {},
   "outputs": [
    {
     "data": {
      "text/plain": [
       "<All keys matched successfully>"
      ]
     },
     "execution_count": 15,
     "metadata": {},
     "output_type": "execute_result"
    }
   ],
   "source": [
    "loaded_model = torch.load('./models/model1.pth')\n",
    "model.load_state_dict(loaded_model.state_dict())"
   ]
  },
  {
   "cell_type": "code",
   "execution_count": 16,
   "metadata": {},
   "outputs": [],
   "source": [
    "val_loss, val_acc = test_model(loaded_model, test_loader, criterion)"
   ]
  },
  {
   "cell_type": "code",
   "execution_count": 17,
   "metadata": {},
   "outputs": [
    {
     "name": "stdout",
     "output_type": "stream",
     "text": [
      "Validation Loss : 0.003 - Validation accuracy : 0.015\n"
     ]
    }
   ],
   "source": [
    "print(f'Validation Loss : {(val_loss):.3f} - Validation accuracy : {(val_acc):.3f}')"
   ]
  },
  {
   "cell_type": "code",
   "execution_count": null,
   "metadata": {},
   "outputs": [],
   "source": []
  }
 ],
 "metadata": {
  "kernelspec": {
   "display_name": "Python 3",
   "language": "python",
   "name": "python3"
  },
  "language_info": {
   "codemirror_mode": {
    "name": "ipython",
    "version": 3
   },
   "file_extension": ".py",
   "mimetype": "text/x-python",
   "name": "python",
   "nbconvert_exporter": "python",
   "pygments_lexer": "ipython3",
   "version": "3.11.2"
  }
 },
 "nbformat": 4,
 "nbformat_minor": 2
}
