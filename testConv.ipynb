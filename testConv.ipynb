{
 "cells": [
  {
   "cell_type": "code",
   "execution_count": 1,
   "metadata": {},
   "outputs": [],
   "source": [
    "from torchsummary import summary\n",
    "import matplotlib.pyplot as plt\n",
    "from convModel import CONVClassifier\n",
    "from utils import *"
   ]
  },
  {
   "cell_type": "code",
   "execution_count": 2,
   "metadata": {},
   "outputs": [
    {
     "name": "stdout",
     "output_type": "stream",
     "text": [
      "==========================================================================================\n",
      "Layer (type:depth-idx)                   Output Shape              Param #\n",
      "==========================================================================================\n",
      "├─Sequential: 1-1                        [-1, 10]                  --\n",
      "|    └─Conv2d: 2-1                       [-1, 6, 24, 24]           156\n",
      "|    └─Sigmoid: 2-2                      [-1, 6, 24, 24]           --\n",
      "|    └─AvgPool2d: 2-3                    [-1, 6, 12, 12]           --\n",
      "|    └─Conv2d: 2-4                       [-1, 16, 8, 8]            2,416\n",
      "|    └─Sigmoid: 2-5                      [-1, 16, 8, 8]            --\n",
      "|    └─AvgPool2d: 2-6                    [-1, 16, 4, 4]            --\n",
      "|    └─Flatten: 2-7                      [-1, 256]                 --\n",
      "|    └─Linear: 2-8                       [-1, 120]                 30,840\n",
      "|    └─Sigmoid: 2-9                      [-1, 120]                 --\n",
      "|    └─Linear: 2-10                      [-1, 84]                  10,164\n",
      "|    └─Sigmoid: 2-11                     [-1, 84]                  --\n",
      "|    └─Linear: 2-12                      [-1, 10]                  850\n",
      "==========================================================================================\n",
      "Total params: 44,426\n",
      "Trainable params: 44,426\n",
      "Non-trainable params: 0\n",
      "Total mult-adds (M): 0.33\n",
      "==========================================================================================\n",
      "Input size (MB): 0.00\n",
      "Forward/backward pass size (MB): 0.04\n",
      "Params size (MB): 0.17\n",
      "Estimated Total Size (MB): 0.21\n",
      "==========================================================================================\n"
     ]
    },
    {
     "data": {
      "text/plain": [
       "==========================================================================================\n",
       "Layer (type:depth-idx)                   Output Shape              Param #\n",
       "==========================================================================================\n",
       "├─Sequential: 1-1                        [-1, 10]                  --\n",
       "|    └─Conv2d: 2-1                       [-1, 6, 24, 24]           156\n",
       "|    └─Sigmoid: 2-2                      [-1, 6, 24, 24]           --\n",
       "|    └─AvgPool2d: 2-3                    [-1, 6, 12, 12]           --\n",
       "|    └─Conv2d: 2-4                       [-1, 16, 8, 8]            2,416\n",
       "|    └─Sigmoid: 2-5                      [-1, 16, 8, 8]            --\n",
       "|    └─AvgPool2d: 2-6                    [-1, 16, 4, 4]            --\n",
       "|    └─Flatten: 2-7                      [-1, 256]                 --\n",
       "|    └─Linear: 2-8                       [-1, 120]                 30,840\n",
       "|    └─Sigmoid: 2-9                      [-1, 120]                 --\n",
       "|    └─Linear: 2-10                      [-1, 84]                  10,164\n",
       "|    └─Sigmoid: 2-11                     [-1, 84]                  --\n",
       "|    └─Linear: 2-12                      [-1, 10]                  850\n",
       "==========================================================================================\n",
       "Total params: 44,426\n",
       "Trainable params: 44,426\n",
       "Non-trainable params: 0\n",
       "Total mult-adds (M): 0.33\n",
       "==========================================================================================\n",
       "Input size (MB): 0.00\n",
       "Forward/backward pass size (MB): 0.04\n",
       "Params size (MB): 0.17\n",
       "Estimated Total Size (MB): 0.21\n",
       "=========================================================================================="
      ]
     },
     "execution_count": 2,
     "metadata": {},
     "output_type": "execute_result"
    }
   ],
   "source": [
    "model = CONVClassifier()\n",
    "summary(model, (1, 28, 28))"
   ]
  },
  {
   "cell_type": "code",
   "execution_count": null,
   "metadata": {},
   "outputs": [],
   "source": []
  }
 ],
 "metadata": {
  "kernelspec": {
   "display_name": "Python 3",
   "language": "python",
   "name": "python3"
  },
  "language_info": {
   "codemirror_mode": {
    "name": "ipython",
    "version": 3
   },
   "file_extension": ".py",
   "mimetype": "text/x-python",
   "name": "python",
   "nbconvert_exporter": "python",
   "pygments_lexer": "ipython3",
   "version": "3.11.2"
  }
 },
 "nbformat": 4,
 "nbformat_minor": 2
}
