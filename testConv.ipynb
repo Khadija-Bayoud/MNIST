{
 "cells": [
  {
   "cell_type": "code",
   "execution_count": 1,
   "metadata": {},
   "outputs": [],
   "source": [
    "from torchsummary import summary\n",
    "import matplotlib.pyplot as plt\n",
    "from convModel import CONVClassifier\n",
    "from utils import *"
   ]
  },
  {
   "cell_type": "code",
   "execution_count": 2,
   "metadata": {},
   "outputs": [
    {
     "name": "stdout",
     "output_type": "stream",
     "text": [
      "==========================================================================================\n",
      "Layer (type:depth-idx)                   Output Shape              Param #\n",
      "==========================================================================================\n",
      "├─Sequential: 1-1                        [-1, 10]                  --\n",
      "|    └─Conv2d: 2-1                       [-1, 6, 24, 24]           156\n",
      "|    └─Sigmoid: 2-2                      [-1, 6, 24, 24]           --\n",
      "|    └─AvgPool2d: 2-3                    [-1, 6, 12, 12]           --\n",
      "|    └─Conv2d: 2-4                       [-1, 16, 8, 8]            2,416\n",
      "|    └─Sigmoid: 2-5                      [-1, 16, 8, 8]            --\n",
      "|    └─AvgPool2d: 2-6                    [-1, 16, 4, 4]            --\n",
      "|    └─Flatten: 2-7                      [-1, 256]                 --\n",
      "|    └─Linear: 2-8                       [-1, 120]                 30,840\n",
      "|    └─Sigmoid: 2-9                      [-1, 120]                 --\n",
      "|    └─Linear: 2-10                      [-1, 84]                  10,164\n",
      "|    └─Sigmoid: 2-11                     [-1, 84]                  --\n",
      "|    └─Linear: 2-12                      [-1, 10]                  850\n",
      "==========================================================================================\n",
      "Total params: 44,426\n",
      "Trainable params: 44,426\n",
      "Non-trainable params: 0\n",
      "Total mult-adds (M): 0.33\n",
      "==========================================================================================\n",
      "Input size (MB): 0.00\n",
      "Forward/backward pass size (MB): 0.04\n",
      "Params size (MB): 0.17\n",
      "Estimated Total Size (MB): 0.21\n",
      "==========================================================================================\n"
     ]
    },
    {
     "data": {
      "text/plain": [
       "==========================================================================================\n",
       "Layer (type:depth-idx)                   Output Shape              Param #\n",
       "==========================================================================================\n",
       "├─Sequential: 1-1                        [-1, 10]                  --\n",
       "|    └─Conv2d: 2-1                       [-1, 6, 24, 24]           156\n",
       "|    └─Sigmoid: 2-2                      [-1, 6, 24, 24]           --\n",
       "|    └─AvgPool2d: 2-3                    [-1, 6, 12, 12]           --\n",
       "|    └─Conv2d: 2-4                       [-1, 16, 8, 8]            2,416\n",
       "|    └─Sigmoid: 2-5                      [-1, 16, 8, 8]            --\n",
       "|    └─AvgPool2d: 2-6                    [-1, 16, 4, 4]            --\n",
       "|    └─Flatten: 2-7                      [-1, 256]                 --\n",
       "|    └─Linear: 2-8                       [-1, 120]                 30,840\n",
       "|    └─Sigmoid: 2-9                      [-1, 120]                 --\n",
       "|    └─Linear: 2-10                      [-1, 84]                  10,164\n",
       "|    └─Sigmoid: 2-11                     [-1, 84]                  --\n",
       "|    └─Linear: 2-12                      [-1, 10]                  850\n",
       "==========================================================================================\n",
       "Total params: 44,426\n",
       "Trainable params: 44,426\n",
       "Non-trainable params: 0\n",
       "Total mult-adds (M): 0.33\n",
       "==========================================================================================\n",
       "Input size (MB): 0.00\n",
       "Forward/backward pass size (MB): 0.04\n",
       "Params size (MB): 0.17\n",
       "Estimated Total Size (MB): 0.21\n",
       "=========================================================================================="
      ]
     },
     "execution_count": 2,
     "metadata": {},
     "output_type": "execute_result"
    }
   ],
   "source": [
    "model = CONVClassifier()\n",
    "summary(model, (1, 28, 28))"
   ]
  },
  {
   "cell_type": "code",
   "execution_count": 3,
   "metadata": {},
   "outputs": [],
   "source": [
    "train, test = download_MNIST()\n",
    "train_loader, test_loader = data_loaders(train, test, batch_size=64)"
   ]
  },
  {
   "cell_type": "code",
   "execution_count": 4,
   "metadata": {},
   "outputs": [],
   "source": [
    "optimizer = adam_optimizer(model, lr=5e-4)\n",
    "criterion = cross_entropy_loss()\n",
    "num_epochs = 100"
   ]
  },
  {
   "cell_type": "code",
   "execution_count": 5,
   "metadata": {},
   "outputs": [
    {
     "name": "stdout",
     "output_type": "stream",
     "text": [
      "Epoch : 1/100\n",
      "[1,     1] loss: 2.393, accuracy: 0.078\r"
     ]
    },
    {
     "name": "stdout",
     "output_type": "stream",
     "text": [
      "[1,   938] loss: 1.627, accuracy: 0.455\n",
      "Epoch : 2/100\n",
      "[2,   938] loss: 0.433, accuracy: 0.881\n",
      "Epoch : 3/100\n",
      "[3,   938] loss: 0.282, accuracy: 0.918\n",
      "Epoch : 4/100\n",
      "[4,   938] loss: 0.218, accuracy: 0.935\n",
      "Epoch : 5/100\n",
      "[5,   938] loss: 0.178, accuracy: 0.946\n",
      "Epoch : 6/100\n",
      "[6,   938] loss: 0.150, accuracy: 0.954\n",
      "Epoch : 7/100\n",
      "[7,   938] loss: 0.131, accuracy: 0.960\n",
      "Epoch : 8/100\n",
      "[8,   938] loss: 0.116, accuracy: 0.965\n",
      "Epoch : 9/100\n",
      "[9,   938] loss: 0.104, accuracy: 0.968\n",
      "Epoch : 10/100\n",
      "[10,   938] loss: 0.095, accuracy: 0.971\n",
      "Epoch : 11/100\n",
      "[11,   938] loss: 0.087, accuracy: 0.974\n",
      "Epoch : 12/100\n",
      "[12,   938] loss: 0.081, accuracy: 0.975\n",
      "Epoch : 13/100\n",
      "[13,   938] loss: 0.075, accuracy: 0.977\n",
      "Epoch : 14/100\n",
      "[14,   938] loss: 0.071, accuracy: 0.979\n",
      "Epoch : 15/100\n",
      "[15,   938] loss: 0.066, accuracy: 0.980\n",
      "Epoch : 16/100\n",
      "[16,   938] loss: 0.063, accuracy: 0.981\n",
      "Epoch : 17/100\n",
      "[17,   938] loss: 0.059, accuracy: 0.982\n",
      "Epoch : 18/100\n",
      "[18,   938] loss: 0.057, accuracy: 0.983\n",
      "Epoch : 19/100\n",
      "[19,   938] loss: 0.054, accuracy: 0.983\n",
      "Epoch : 20/100\n",
      "[20,   938] loss: 0.052, accuracy: 0.984\n",
      "Epoch : 21/100\n",
      "[21,   938] loss: 0.049, accuracy: 0.985\n",
      "Epoch : 22/100\n",
      "[22,   938] loss: 0.047, accuracy: 0.985\n",
      "Epoch : 23/100\n",
      "[23,   938] loss: 0.047, accuracy: 0.986\n",
      "Epoch : 24/100\n",
      "[24,   938] loss: 0.044, accuracy: 0.986\n",
      "Epoch : 25/100\n",
      "[25,   938] loss: 0.043, accuracy: 0.986\n",
      "Epoch : 26/100\n",
      "[26,   938] loss: 0.041, accuracy: 0.987\n",
      "Epoch : 27/100\n",
      "[27,   938] loss: 0.039, accuracy: 0.988\n",
      "Epoch : 28/100\n",
      "[28,   938] loss: 0.037, accuracy: 0.988\n",
      "Epoch : 29/100\n",
      "[29,   938] loss: 0.036, accuracy: 0.989\n",
      "Epoch : 30/100\n",
      "[30,   938] loss: 0.035, accuracy: 0.989\n",
      "Epoch : 31/100\n",
      "[31,   938] loss: 0.034, accuracy: 0.990\n",
      "Epoch : 32/100\n",
      "[32,   938] loss: 0.033, accuracy: 0.990\n",
      "Epoch : 33/100\n",
      "[33,   938] loss: 0.031, accuracy: 0.990\n",
      "Epoch : 34/100\n",
      "[34,   938] loss: 0.030, accuracy: 0.991\n",
      "Epoch : 35/100\n",
      "[35,   938] loss: 0.029, accuracy: 0.991\n",
      "Epoch : 36/100\n",
      "[36,   938] loss: 0.028, accuracy: 0.991\n",
      "Epoch : 37/100\n",
      "[37,   938] loss: 0.027, accuracy: 0.992\n",
      "Epoch : 38/100\n",
      "[38,   938] loss: 0.027, accuracy: 0.992\n",
      "Epoch : 39/100\n",
      "[39,   938] loss: 0.026, accuracy: 0.992\n",
      "Epoch : 40/100\n",
      "[40,   938] loss: 0.024, accuracy: 0.993\n",
      "Epoch : 41/100\n",
      "[41,   938] loss: 0.024, accuracy: 0.993\n",
      "Epoch : 42/100\n",
      "[42,   938] loss: 0.022, accuracy: 0.993\n",
      "Epoch : 43/100\n",
      "[43,   938] loss: 0.023, accuracy: 0.993\n",
      "Epoch : 44/100\n",
      "[44,   938] loss: 0.021, accuracy: 0.993\n",
      "Epoch : 45/100\n",
      "[45,   938] loss: 0.021, accuracy: 0.994\n",
      "Epoch : 46/100\n",
      "[46,   938] loss: 0.020, accuracy: 0.994\n",
      "Epoch : 47/100\n",
      "[47,   938] loss: 0.019, accuracy: 0.994\n",
      "Epoch : 48/100\n",
      "[48,   938] loss: 0.018, accuracy: 0.994\n",
      "Epoch : 49/100\n",
      "[49,   938] loss: 0.018, accuracy: 0.995\n",
      "Epoch : 50/100\n",
      "[50,   938] loss: 0.017, accuracy: 0.995\n",
      "Epoch : 51/100\n",
      "[51,   938] loss: 0.017, accuracy: 0.995\n",
      "Epoch : 52/100\n",
      "[52,   938] loss: 0.016, accuracy: 0.995\n",
      "Epoch : 53/100\n",
      "[53,   938] loss: 0.016, accuracy: 0.995\n",
      "Epoch : 54/100\n",
      "[54,   938] loss: 0.015, accuracy: 0.996\n",
      "Epoch : 55/100\n",
      "[55,   938] loss: 0.014, accuracy: 0.996\n",
      "Epoch : 56/100\n",
      "[56,   938] loss: 0.014, accuracy: 0.996\n",
      "Epoch : 57/100\n",
      "[57,   938] loss: 0.013, accuracy: 0.996\n",
      "Epoch : 58/100\n",
      "[58,   938] loss: 0.014, accuracy: 0.996\n",
      "Epoch : 59/100\n",
      "[59,   938] loss: 0.013, accuracy: 0.996\n",
      "Epoch : 60/100\n",
      "[60,   938] loss: 0.012, accuracy: 0.997\n",
      "Epoch : 61/100\n",
      "[61,   938] loss: 0.012, accuracy: 0.997\n",
      "Epoch : 62/100\n",
      "[62,   938] loss: 0.011, accuracy: 0.997\n",
      "Epoch : 63/100\n",
      "[63,   938] loss: 0.011, accuracy: 0.997\n",
      "Epoch : 64/100\n",
      "[64,   938] loss: 0.010, accuracy: 0.997\n",
      "Epoch : 65/100\n",
      "[65,   938] loss: 0.010, accuracy: 0.997\n",
      "Epoch : 66/100\n",
      "[66,   938] loss: 0.010, accuracy: 0.997\n",
      "Epoch : 67/100\n",
      "[67,   938] loss: 0.010, accuracy: 0.997\n",
      "Epoch : 68/100\n",
      "[68,   938] loss: 0.009, accuracy: 0.998\n",
      "Epoch : 69/100\n",
      "[69,   938] loss: 0.009, accuracy: 0.998\n",
      "Epoch : 70/100\n",
      "[70,   938] loss: 0.008, accuracy: 0.998\n",
      "Epoch : 71/100\n",
      "[71,   938] loss: 0.008, accuracy: 0.998\n",
      "Epoch : 72/100\n",
      "[72,   938] loss: 0.008, accuracy: 0.998\n",
      "Epoch : 73/100\n",
      "[73,   938] loss: 0.008, accuracy: 0.998\n",
      "Epoch : 74/100\n",
      "[74,   938] loss: 0.007, accuracy: 0.998\n",
      "Epoch : 75/100\n",
      "[75,   938] loss: 0.006, accuracy: 0.999\n",
      "Epoch : 76/100\n",
      "[76,   938] loss: 0.007, accuracy: 0.998\n",
      "Epoch : 77/100\n",
      "[77,   938] loss: 0.007, accuracy: 0.998\n",
      "Epoch : 78/100\n",
      "[78,   938] loss: 0.006, accuracy: 0.998\n",
      "Epoch : 79/100\n",
      "[79,   938] loss: 0.006, accuracy: 0.998\n",
      "Epoch : 80/100\n",
      "[80,   938] loss: 0.006, accuracy: 0.998\n",
      "Epoch : 81/100\n",
      "[81,   938] loss: 0.005, accuracy: 0.999\n",
      "Epoch : 82/100\n",
      "[82,   938] loss: 0.006, accuracy: 0.998\n",
      "Epoch : 83/100\n",
      "[83,   938] loss: 0.005, accuracy: 0.999\n",
      "Epoch : 84/100\n",
      "[84,   938] loss: 0.005, accuracy: 0.999\n",
      "Epoch : 85/100\n",
      "[85,   938] loss: 0.005, accuracy: 0.999\n",
      "Epoch : 86/100\n",
      "[86,   938] loss: 0.005, accuracy: 0.999\n",
      "Epoch : 87/100\n",
      "[87,   938] loss: 0.005, accuracy: 0.998\n",
      "Epoch : 88/100\n",
      "[88,   938] loss: 0.004, accuracy: 0.999\n",
      "Epoch : 89/100\n",
      "[89,   938] loss: 0.005, accuracy: 0.999\n",
      "Epoch : 90/100\n",
      "[90,   938] loss: 0.004, accuracy: 0.999\n",
      "Epoch : 91/100\n",
      "[91,   938] loss: 0.003, accuracy: 0.999\n",
      "Epoch : 92/100\n",
      "[92,   938] loss: 0.005, accuracy: 0.999\n",
      "Epoch : 93/100\n",
      "[93,   938] loss: 0.003, accuracy: 0.999\n",
      "Epoch : 94/100\n",
      "[94,   938] loss: 0.004, accuracy: 0.999\n",
      "Epoch : 95/100\n",
      "[95,   938] loss: 0.003, accuracy: 0.999\n",
      "Epoch : 96/100\n",
      "[96,   938] loss: 0.004, accuracy: 0.999\n",
      "Epoch : 97/100\n",
      "[97,   938] loss: 0.003, accuracy: 0.999\n",
      "Epoch : 98/100\n",
      "[98,   938] loss: 0.003, accuracy: 0.999\n",
      "Epoch : 99/100\n",
      "[99,   938] loss: 0.003, accuracy: 0.999\n",
      "Epoch : 100/100\n",
      "[100,   938] loss: 0.003, accuracy: 0.999\n",
      "Training complete.\n"
     ]
    }
   ],
   "source": [
    "model, log_dict = train_model(model, train_loader, test_loader, optimizer, criterion, num_epochs)\n",
    "torch.save(model, './models/convModel1.pth')"
   ]
  },
  {
   "cell_type": "code",
   "execution_count": 8,
   "metadata": {},
   "outputs": [
    {
     "data": {
      "text/plain": [
       "<All keys matched successfully>"
      ]
     },
     "execution_count": 8,
     "metadata": {},
     "output_type": "execute_result"
    }
   ],
   "source": [
    "loaded_model = torch.load('./models/convModel1.pth')\n",
    "model.load_state_dict(loaded_model.state_dict())"
   ]
  },
  {
   "cell_type": "code",
   "execution_count": 9,
   "metadata": {},
   "outputs": [],
   "source": [
    "train_losses = log_dict['train_loss_per_epoch']\n",
    "train_accuracies = log_dict['train_accuracy_per_epoch']\n",
    "val_losses = log_dict['test_loss_per_epoch']\n",
    "val_accuracies = log_dict['test_accuracy_per_epoch']"
   ]
  },
  {
   "cell_type": "code",
   "execution_count": 10,
   "metadata": {},
   "outputs": [
    {
     "data": {
      "image/png": "[encoded data removed]",
      "text/plain": [
       "<Figure size 1000x500 with 2 Axes>"
      ]
     },
     "metadata": {},
     "output_type": "display_data"
    }
   ],
   "source": [
    "visualization(train_losses, train_accuracies, val_losses, val_accuracies)"
   ]
  },
  {
   "cell_type": "code",
   "execution_count": null,
   "metadata": {},
   "outputs": [],
   "source": []
  }
 ],
 "metadata": {
  "kernelspec": {
   "display_name": "Python 3",
   "language": "python",
   "name": "python3"
  },
  "language_info": {
   "codemirror_mode": {
    "name": "ipython",
    "version": 3
   },
   "file_extension": ".py",
   "mimetype": "text/x-python",
   "name": "python",
   "nbconvert_exporter": "python",
   "pygments_lexer": "ipython3",
   "version": "3.11.2"
  }
 },
 "nbformat": 4,
 "nbformat_minor": 2
}
